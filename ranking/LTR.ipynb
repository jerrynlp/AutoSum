{
 "cells": [
  {
   "cell_type": "markdown",
   "metadata": {},
   "source": [
    "# LTR Model to Salient Concepts\n",
    "In this approach, we use LTR to select candidate phrases for generating summaris.\n",
    "# Data Construction\n",
    "This step is reading tokens from BookNLP to construct training set."
   ]
  },
  {
   "cell_type": "code",
   "execution_count": 6,
   "metadata": {
    "collapsed": false
   },
   "outputs": [],
   "source": [
    "import numpy as np\n",
    "from sklearn import linear_model\n",
    "from sklearn.ensemble import GradientBoostingRegressor\n",
    "from sklearn.model_selection import KFold\n",
    "from sklearn.metrics import mean_squared_error, mean_absolute_error\n",
    "from sklearn.model_selection import cross_val_score\n",
    "#####################################################################\n",
    "# DataSet\n",
    "#####################################################################\n",
    "train_file = open('../../0.part.tokens.LTR_FT', 'rb')\n",
    "character = {}\n",
    "for line in train_file:\n",
    "    terms = line.split('\\t')\n",
    "    key = terms[0] + ' ' + terms[1]\n",
    "    if not key in character:\n",
    "        character[key] = []\n",
    "    character[key].append(terms[2])\n",
    "train_file.close()\n",
    "samples = character.values()"
   ]
  },
  {
   "cell_type": "code",
   "execution_count": 14,
   "metadata": {
    "collapsed": false
   },
   "outputs": [
    {
     "name": "stdout",
     "output_type": "stream",
     "text": [
      "Linear Regression MSE 0.0421227189918\n",
      "Linear Regression MAE 0.164648788162\n",
      "Gradient Boosting Regressor MSE 0.0323571346827\n",
      "Gradient Boosting Regressor MAE 0.141880088677\n"
     ]
    }
   ],
   "source": [
    "def sample2Xy(samples, indexes):\n",
    "    X = []\n",
    "    y = []\n",
    "    for index in indexes:\n",
    "        for des in samples[index]:\n",
    "            terms = des.split(' ')\n",
    "            X.append([float(x) for x in terms[1:]])\n",
    "            y.append(float(terms[0]))\n",
    "    X = np.array(X, dtype=np.float32)\n",
    "    y = np.array(y, dtype=np.float32)\n",
    "    return X, y\n",
    "kf = KFold(n_splits = 5, shuffle = True)\n",
    "mse_linear_model = []\n",
    "mae_linear_model = []\n",
    "mse_tree_model = []\n",
    "mae_tree_model = []\n",
    "for train, test in kf.split(samples):\n",
    "    X_train, y_train = sample2Xy(samples, train)\n",
    "    X_test, y_test = sample2Xy(samples, test)\n",
    "    # Linear Regression\n",
    "    clf = linear_model.LinearRegression()\n",
    "    clf.fit(X_train, y_train)\n",
    "    y_pred = clf.predict(X_test)\n",
    "    mse_linear_model.append(mean_squared_error(y_test, y_pred))\n",
    "    mae_linear_model.append(mean_absolute_error(y_test, y_pred))\n",
    "    # Gradient Boosting Regressor\n",
    "    clf = GradientBoostingRegressor(learning_rate=0.05, random_state=1)\n",
    "    clf.fit(X_train, y_train)\n",
    "    y_pred = clf.predict(X_test)\n",
    "    mse_tree_model.append(mean_squared_error(y_test, y_pred))\n",
    "    mae_tree_model.append(mean_absolute_error(y_test, y_pred))\n",
    "print 'Linear Regression MSE ' + str(abs(np.mean(mse_linear_model)))\n",
    "print 'Linear Regression MAE ' + str(abs(np.mean(mae_linear_model)))\n",
    "print 'Gradient Boosting Regressor MSE ' + str(abs(np.mean(mse_tree_model)))\n",
    "print 'Gradient Boosting Regressor MAE ' + str(abs(np.mean(mae_tree_model)))"
   ]
  },
  {
   "cell_type": "code",
   "execution_count": 65,
   "metadata": {
    "collapsed": false
   },
   "outputs": [
    {
     "name": "stdout",
     "output_type": "stream",
     "text": [
      "[ 0.44574937  0.32700461  1.          1.          0.48753181  1.          1.\n",
      "  0.47809133  1.          0.88545078]\n",
      "[ 0.8824008   0.48452059  0.90852744  0.84650243  0.56198991  0.94819097\n",
      "  0.93412086  0.6356297   0.99729832  0.6399198 ]\n"
     ]
    }
   ],
   "source": [
    "i = 495\n",
    "print y_test[i: i + 10]\n",
    "print y_pred[i: i + 10]"
   ]
  },
  {
   "cell_type": "markdown",
   "metadata": {},
   "source": [
    "# next step\n",
    "## nDCG\n",
    "## MAP\n"
   ]
  }
 ],
 "metadata": {
  "anaconda-cloud": {},
  "kernelspec": {
   "display_name": "Python 2",
   "language": "python",
   "name": "python2"
  },
  "language_info": {
   "codemirror_mode": {
    "name": "ipython",
    "version": 2
   },
   "file_extension": ".py",
   "mimetype": "text/x-python",
   "name": "python",
   "nbconvert_exporter": "python",
   "pygments_lexer": "ipython2",
   "version": "2.7.12"
  }
 },
 "nbformat": 4,
 "nbformat_minor": 1
}
