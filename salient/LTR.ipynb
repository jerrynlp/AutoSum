{
 "cells": [
  {
   "cell_type": "markdown",
   "metadata": {},
   "source": [
    "# LTR Model to Salient Concepts\n",
    "In this approach, we use LTR to select candidate phrases for generating summaris.\n",
    "# Data Construction\n",
    "This step is reading tokens from BookNLP to construct training set."
   ]
  },
  {
   "cell_type": "code",
   "execution_count": 4,
   "metadata": {
    "collapsed": false
   },
   "outputs": [
    {
     "name": "stdout",
     "output_type": "stream",
     "text": [
      "(16156, 261)\n"
     ]
    }
   ],
   "source": [
    "import numpy as np\n",
    "from sklearn import linear_model\n",
    "from sklearn.ensemble import GradientBoostingRegressor\n",
    "from sklearn.model_selection import KFold\n",
    "from sklearn.metrics import mean_squared_error\n",
    "from sklearn.model_selection import cross_val_score\n",
    "#####################################################################\n",
    "# DataSet\n",
    "#####################################################################\n",
    "train_file = open('../../0.part.tokens.LTR_FT', 'rb')\n",
    "X = []\n",
    "y = []\n",
    "for line in train_file:\n",
    "    terms = line.rstrip().split(' ')\n",
    "    X.append([float(x) for x in terms[1:]])\n",
    "    y.append(float(terms[0]))\n",
    "train_file.close()\n",
    "X = np.array(X, dtype=np.float32)\n",
    "y = np.array(y, dtype=np.int32)\n",
    "print X.shape"
   ]
  },
  {
   "cell_type": "code",
   "execution_count": 5,
   "metadata": {
    "collapsed": false
   },
   "outputs": [
    {
     "name": "stdout",
     "output_type": "stream",
     "text": [
      "Linear Regression MSE 0.095063458797\n",
      "Gradient Boosting Regressor MSE 0.0580220893295\n"
     ]
    }
   ],
   "source": [
    "# Split\n",
    "cv = KFold(5, random_state=1)\n",
    "# Linear Regression\n",
    "clf = linear_model.LinearRegression()\n",
    "s = cross_val_score(clf, X, y, scoring=\"mean_squared_error\", cv=cv, n_jobs=-1)\n",
    "print 'Linear Regression MSE ' + str(abs(np.mean(s)))\n",
    "# Gradient Boosting Regressor\n",
    "clf = GradientBoostingRegressor(learning_rate=0.05, random_state=1)\n",
    "s = cross_val_score(clf, X, y, scoring=\"mean_squared_error\", cv=cv, n_jobs=-1)\n",
    "print 'Gradient Boosting Regressor MSE ' + str(abs(np.mean(s)))"
   ]
  },
  {
   "cell_type": "code",
   "execution_count": 6,
   "metadata": {
    "collapsed": false
   },
   "outputs": [
    {
     "name": "stdout",
     "output_type": "stream",
     "text": [
      "Linear Regression MSE 0.214656908953\n",
      "Gradient Boosting Regressor MSE 0.119551468543\n"
     ]
    }
   ],
   "source": [
    "\n",
    "# Linear Regression\n",
    "clf = linear_model.LinearRegression()\n",
    "s = cross_val_score(clf, X, y, scoring=\"mean_absolute_error\", cv=cv, n_jobs=-1)\n",
    "print 'Linear Regression MSE ' + str(abs(np.mean(s)))\n",
    "# Gradient Boosting Regressor\n",
    "clf = GradientBoostingRegressor(learning_rate=0.05, random_state=1)\n",
    "s = cross_val_score(clf, X, y, scoring=\"mean_absolute_error\", cv=cv, n_jobs=-1)\n",
    "print 'Gradient Boosting Regressor MSE ' + str(abs(np.mean(s)))"
   ]
  },
  {
   "cell_type": "code",
   "execution_count": null,
   "metadata": {
    "collapsed": true
   },
   "outputs": [],
   "source": []
  }
 ],
 "metadata": {
  "anaconda-cloud": {},
  "kernelspec": {
   "display_name": "Python 2",
   "language": "python",
   "name": "python2"
  },
  "language_info": {
   "codemirror_mode": {
    "name": "ipython",
    "version": 2
   },
   "file_extension": ".py",
   "mimetype": "text/x-python",
   "name": "python",
   "nbconvert_exporter": "python",
   "pygments_lexer": "ipython2",
   "version": "2.7.12"
  }
 },
 "nbformat": 4,
 "nbformat_minor": 1
}
